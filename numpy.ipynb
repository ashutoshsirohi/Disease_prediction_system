{
 "cells": [
  {
   "cell_type": "code",
   "execution_count": 1,
   "id": "3a3aa960-8fb7-4a8d-800e-5ed95e4522b5",
   "metadata": {},
   "outputs": [
    {
     "name": "stdout",
     "output_type": "stream",
     "text": [
      "Hello\n",
      "good morning\n"
     ]
    }
   ],
   "source": [
    "print(\"Hello\")\n",
    "print(\"good morning\")"
   ]
  },
  {
   "cell_type": "code",
   "execution_count": 4,
   "id": "27253c67-d018-4e39-91c5-16a744384d82",
   "metadata": {},
   "outputs": [
    {
     "name": "stdout",
     "output_type": "stream",
     "text": [
      "[2 4 6 1]\n"
     ]
    }
   ],
   "source": [
    "from numpy import *\n",
    "arr1=array([2,4,6,1])\n",
    "print(arr1)"
   ]
  },
  {
   "cell_type": "code",
   "execution_count": 5,
   "id": "336d1748-09de-40af-963f-31935dfb948e",
   "metadata": {},
   "outputs": [
    {
     "name": "stdout",
     "output_type": "stream",
     "text": [
      "type[array([2, 4, 6, 1])]\n"
     ]
    }
   ],
   "source": [
    "print(type[arr1])"
   ]
  },
  {
   "cell_type": "code",
   "execution_count": 6,
   "id": "31b3cd3d-fa82-4157-acdd-95960de5d919",
   "metadata": {
    "jupyter": {
     "source_hidden": true
    }
   },
   "outputs": [
    {
     "name": "stdout",
     "output_type": "stream",
     "text": [
      "['Hello' 'hi' 'hey']\n",
      "<class 'numpy.ndarray'>\n"
     ]
    }
   ],
   "source": [
    "from numpy import *\n",
    "arr2=array(['Hello','hi','hey'])\n",
    "arr3=arr2\n",
    "print(arr2)\n",
    "print(type(arr3))"
   ]
  },
  {
   "cell_type": "code",
   "execution_count": 7,
   "id": "48bb234c-06e7-43e6-90dc-862711ae74b3",
   "metadata": {},
   "outputs": [
    {
     "name": "stdout",
     "output_type": "stream",
     "text": [
      "[ 9 10 11 12]\n"
     ]
    }
   ],
   "source": [
    " from numpy import *\n",
    "arr4=array([4,5,6,7])\n",
    "arr4=arr4+5\n",
    "print(arr4)"
   ]
  },
  {
   "cell_type": "code",
   "execution_count": 10,
   "id": "c0e9ad2e-1875-4540-8a8b-74b12a0b43b0",
   "metadata": {},
   "outputs": [
    {
     "name": "stdout",
     "output_type": "stream",
     "text": [
      "[ 5  7  9 11]\n"
     ]
    }
   ],
   "source": [
    "ar1=array([2,3,4,5])\n",
    "ar2=array([3,4,5,6])\n",
    "ar3=ar1+ar2\n",
    "print(ar3)"
   ]
  },
  {
   "cell_type": "code",
   "execution_count": null,
   "id": "0b4d8e5f-37ef-4522-8d15-66b396768c9d",
   "metadata": {},
   "outputs": [],
   "source": [
    "#2D Array"
   ]
  },
  {
   "cell_type": "code",
   "execution_count": 11,
   "id": "639b6ecb-3fd7-4199-b1b9-db04263099b0",
   "metadata": {},
   "outputs": [
    {
     "name": "stdout",
     "output_type": "stream",
     "text": [
      "int64\n"
     ]
    }
   ],
   "source": [
    "from numpy import *\n",
    "ar1=array([\n",
    "    [2,3,4],\n",
    "    [5,6,7]\n",
    "])\n",
    "print(ar1.dtype)"
   ]
  },
  {
   "cell_type": "code",
   "execution_count": 12,
   "id": "5a30b142-19fd-498c-bb79-3630067fc279",
   "metadata": {},
   "outputs": [
    {
     "name": "stdout",
     "output_type": "stream",
     "text": [
      "2\n",
      "(2, 3)\n"
     ]
    }
   ],
   "source": [
    "print(ar1.ndim)\n",
    "print(ar1.shape)"
   ]
  },
  {
   "cell_type": "code",
   "execution_count": 14,
   "id": "fa7862ce-e808-4642-bf84-e5a365a0a21d",
   "metadata": {},
   "outputs": [
    {
     "name": "stdout",
     "output_type": "stream",
     "text": [
      "6\n"
     ]
    }
   ],
   "source": [
    "print(ar1.size)"
   ]
  },
  {
   "cell_type": "code",
   "execution_count": null,
   "id": "af732959-ea9e-4b5d-9f8f-0fc1cdd8ca81",
   "metadata": {},
   "outputs": [],
   "source": [
    "#2-d to 1-d\n",
    "#flatten"
   ]
  },
  {
   "cell_type": "code",
   "execution_count": 15,
   "id": "8c7ca480-c557-428f-b5bf-84fc52fe1dcc",
   "metadata": {},
   "outputs": [
    {
     "name": "stdout",
     "output_type": "stream",
     "text": [
      "[2 3 4 5 6 7]\n"
     ]
    }
   ],
   "source": [
    "ar2=ar1.flatten()\n",
    "print(ar2)"
   ]
  },
  {
   "cell_type": "code",
   "execution_count": 16,
   "id": "1dac2a8d-733a-4f80-aa02-4424b344812e",
   "metadata": {},
   "outputs": [
    {
     "name": "stdout",
     "output_type": "stream",
     "text": [
      "[[2 3]\n",
      " [4 5]\n",
      " [6 7]]\n"
     ]
    }
   ],
   "source": [
    "#1-d to 2-D\n",
    "#reshape\n",
    "ar3=ar2.reshape(3,2)\n",
    "print(ar3)"
   ]
  },
  {
   "cell_type": "code",
   "execution_count": 19,
   "id": "47e76d87-02ef-46a7-9cdf-0c72771090bc",
   "metadata": {},
   "outputs": [
    {
     "name": "stdout",
     "output_type": "stream",
     "text": [
      "[[2]\n",
      " [3]\n",
      " [4]\n",
      " [5]\n",
      " [6]\n",
      " [7]]\n"
     ]
    }
   ],
   "source": [
    "ar4=ar3.reshape(6,1)\n",
    "print(ar4)"
   ]
  },
  {
   "cell_type": "code",
   "execution_count": 20,
   "id": "d7c0dda1-694a-49d6-b578-43647826a04e",
   "metadata": {},
   "outputs": [
    {
     "name": "stdout",
     "output_type": "stream",
     "text": [
      "[0. 0. 0. 0. 0.]\n",
      "<class 'numpy.ndarray'>\n"
     ]
    }
   ],
   "source": [
    "ar1=zeros(5)\n",
    "print(ar1)\n",
    "print(type(ar1))"
   ]
  },
  {
   "cell_type": "markdown",
   "id": "0adcd300-467d-4a0e-b27e-58a0ced2a7c4",
   "metadata": {},
   "source": [
    "# linspace"
   ]
  },
  {
   "cell_type": "code",
   "execution_count": 22,
   "id": "f5aab044-b09c-4047-9097-70c71c0ed283",
   "metadata": {},
   "outputs": [
    {
     "name": "stdout",
     "output_type": "stream",
     "text": [
      "[1.         1.22222222 1.44444444 1.66666667 1.88888889 2.11111111\n",
      " 2.33333333 2.55555556 2.77777778 3.        ]\n"
     ]
    }
   ],
   "source": [
    "ar1=linspace(1,3,10)\n",
    "print(ar1)"
   ]
  },
  {
   "cell_type": "code",
   "execution_count": null,
   "id": "c2217fb8-070a-4d21-b740-07057c62c3a7",
   "metadata": {},
   "outputs": [],
   "source": [
    "#range\n"
   ]
  },
  {
   "cell_type": "code",
   "execution_count": 23,
   "id": "1c8ef2fc-c4a3-47ae-9dc2-b49f6f8a381a",
   "metadata": {},
   "outputs": [
    {
     "name": "stdout",
     "output_type": "stream",
     "text": [
      "[ 1  3  5  7  9 11 13]\n"
     ]
    }
   ],
   "source": [
    "ar1=arange(1,15,2)\n",
    "print(ar1)"
   ]
  }
 ],
 "metadata": {
  "kernelspec": {
   "display_name": "Python 3 (ipykernel)",
   "language": "python",
   "name": "python3"
  },
  "language_info": {
   "codemirror_mode": {
    "name": "ipython",
    "version": 3
   },
   "file_extension": ".py",
   "mimetype": "text/x-python",
   "name": "python",
   "nbconvert_exporter": "python",
   "pygments_lexer": "ipython3",
   "version": "3.12.4"
  }
 },
 "nbformat": 4,
 "nbformat_minor": 5
}
