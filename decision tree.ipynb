{
 "cells": [
  {
   "cell_type": "code",
   "execution_count": null,
   "id": "ace2751a-a4c1-4d4f-849d-885581bd03ed",
   "metadata": {},
   "outputs": [],
   "source": [
    "information gain(IG of Weather):\n",
    "-----------------------------------\n",
    "1) Entropy of whole dataset\n",
    "   s(+9,-5)=> -(9/14)log(9/14) - (5/14)log(5/14) => 0.94\n",
    "\n",
    "\n",
    "2) ESunny(+2,-3) => -(2/5)log(2/5) - (3/5)log(3/5) => 0.97\n",
    "\n",
    "   ECloudy(+4,0) => -(4/4)log(4/4) - (0/4)log(0/4) => 0 \n",
    "\n",
    "   ERain(+3,-2) => -(3/5)log(3/5) - (2/5)log(2/5) => 0.97\n",
    "\n",
    "\n",
    "3) IG = Entropy(whole data) - 5/14Ent(Sunny) - 4/14Ent(Cloudy) - 5/14Ent(Rain)\n",
    "\n",
    "   IG = 0.94 - 5/14(0.97) - 4/14(0) - 5/14(0.97) => 0.246"
   ]
  },
  {
   "cell_type": "code",
   "execution_count": null,
   "id": "4ab8e4fb-5d96-4b1c-8e8b-a1b07a3b3302",
   "metadata": {},
   "outputs": [],
   "source": [
    "IG of Temperature:\n",
    "----------------------------------\n",
    "1) S = 0.94\n",
    "\n",
    "2) EHot(+2,-2) => -2/4log(2/4) - 2/4log(2/4) => 1.0\n",
    "\n",
    "   EMild(+4,-2) => -4/6log(4/6) - 2/6log(2/6) => 8.91\n",
    "\n",
    "   ECool(+3,-1) => -3/4log(3/4) - 1/4log(1/4) => 0.81\n",
    "\n",
    "3) IG = Entropy(whole data) - 5/14Ent(Hot) - 4/14Ent(Mild) - 5/14Ent(Cool)\n",
    "\n",
    "   IG = 0.94 - 4/14(1) - 6/14(0.91) - 4/14(0.81) => 0.029"
   ]
  },
  {
   "cell_type": "code",
   "execution_count": null,
   "id": "39377753-78d1-4b51-b5b6-2091934838e6",
   "metadata": {},
   "outputs": [],
   "source": [
    "IG of Humidity:\n",
    "----------------------------------\n",
    "1) S = 0.94\n",
    "\n",
    "2) EHot(+3,-2)4 => -3/7log(2/4) - 4/7log(4/7) => 0.98\n",
    "\n",
    "   EMild(+6,-1) => -6/7log(6/67 - 1/7log(1/7) => 0.59\n",
    "\n",
    "\n",
    "3) IG = Entropy(whole data) - 5/14Ent(Hot) - 4/14Ent(Mild) - 5/14Ent(Cool)\n",
    "\n",
    "   IG = 0.94 - 4/14(1) - 7/14(0.98) - 7/14(0.59) => 0.15"
   ]
  },
  {
   "cell_type": "code",
   "execution_count": null,
   "id": "e7ac3632-d936-4fa2-84f9-4a065136eb3b",
   "metadata": {},
   "outputs": [],
   "source": [
    "Similarly IG of Wind :\n",
    "\n",
    "  IG of Wind => 0.0478n "
   ]
  },
  {
   "cell_type": "code",
   "execution_count": null,
   "id": "9bb94268-40e1-432b-9e96-2620f70617c1",
   "metadata": {},
   "outputs": [],
   "source": [
    "Whole dataset entropy => 0.97\n",
    "\n",
    "IG of Temp:\n",
    "------------------\n",
    "                                                                    \n",
    "EHot(+0,-2) = - 0/2log(0/2) - 2/2log(2/2) => 0\n",
    "EMild(+1,-1)=                             => 1\n",
    "ECool(+1,0) =                             => 0\n",
    "\n",
    "IG = 0.97 - 2/5E(Hot) - 2/5E(Mild) - 1/5E(Cool)\n",
    "   = 0.97 -2/5 => 0.57\n",
    "\n",
    "IG of Humidity:\n",
    "------------------\n",
    "                                \n",
    "EHigh(+3,-0) => 0\n",
    "ENormal      => 0\n",
    "\n",
    "IG           => 0.97\n",
    "\n",
    "IG of Wind:\n",
    "------------------\n",
    "                                \n",
    "EStrong(+1,-1) => 1\n",
    "EWeak          => 0.918\n",
    "\n",
    "IG             =>0.019"
   ]
  }
 ],
 "metadata": {
  "kernelspec": {
   "display_name": "Python 3 (ipykernel)",
   "language": "python",
   "name": "python3"
  },
  "language_info": {
   "codemirror_mode": {
    "name": "ipython",
    "version": 3
   },
   "file_extension": ".py",
   "mimetype": "text/x-python",
   "name": "python",
   "nbconvert_exporter": "python",
   "pygments_lexer": "ipython3",
   "version": "3.12.4"
  }
 },
 "nbformat": 4,
 "nbformat_minor": 5
}
