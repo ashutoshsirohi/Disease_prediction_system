{
 "cells": [
  {
   "cell_type": "code",
   "execution_count": null,
   "id": "6d636eda-05ac-4996-a992-838b503606c6",
   "metadata": {},
   "outputs": [],
   "source": []
  }
 ],
 "metadata": {
  "kernelspec": {
   "display_name": "",
   "name": ""
  },
  "language_info": {
   "name": ""
  }
 },
 "nbformat": 4,
 "nbformat_minor": 5
}
