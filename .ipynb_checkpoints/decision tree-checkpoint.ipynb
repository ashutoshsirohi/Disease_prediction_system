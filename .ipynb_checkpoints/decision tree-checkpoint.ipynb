{
 "cells": [
  {
   "cell_type": "code",
   "execution_count": null,
   "id": "ace2751a-a4c1-4d4f-849d-885581bd03ed",
   "metadata": {},
   "outputs": [],
   "source": [
    "information gain(IG of Weather):\n",
    "-----------------------------------\n",
    "1) Entropy of whole dataset\n",
    "   s(+9,-5)=> -(9/14)log(9/14) - (5/14)log(5/14) => 0.94\n",
    "\n",
    "2) ESunny(+2,-3) => -(2/5)log(2/5) - (3/5)log(3/5) => 0.97\n",
    "\n",
    "3) ECloudy(+4,0) => -(4/4)log(4/4) - (0/4)log(0/4) => 0 \n",
    "\n",
    "4) ERain(+3,-2) => -(3/5)log(3/5) - (2/5)log(2/5) => 0.97\n",
    "\n",
    "5) IG = Entropy(whole data) - 5/14Ent(Sunny) - 4/14Ent(Cloudy) - 5/14Ent(Rain)\n",
    "\n",
    "   IG = 0.94 - 5/14(0.97) - 4/14(0) - 5/14(0.97) => 0.246"
   ]
  },
  {
   "cell_type": "code",
   "execution_count": null,
   "id": "4ab8e4fb-5d96-4b1c-8e8b-a1b07a3b3302",
   "metadata": {},
   "outputs": [],
   "source": []
  }
 ],
 "metadata": {
  "kernelspec": {
   "display_name": "Python 3 (ipykernel)",
   "language": "python",
   "name": "python3"
  },
  "language_info": {
   "codemirror_mode": {
    "name": "ipython",
    "version": 3
   },
   "file_extension": ".py",
   "mimetype": "text/x-python",
   "name": "python",
   "nbconvert_exporter": "python",
   "pygments_lexer": "ipython3",
   "version": "3.12.4"
  }
 },
 "nbformat": 4,
 "nbformat_minor": 5
}
